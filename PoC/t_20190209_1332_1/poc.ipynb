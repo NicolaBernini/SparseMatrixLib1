{
  "nbformat": 4,
  "nbformat_minor": 0,
  "metadata": {
    "colab": {
      "name": "SparseMatrix_20190209_1337_1.ipynb",
      "version": "0.3.2",
      "provenance": []
    },
    "kernelspec": {
      "name": "python3",
      "display_name": "Python 3"
    }
  },
  "cells": [
    {
      "metadata": {
        "id": "iMsCuaxZQz9j",
        "colab_type": "text"
      },
      "cell_type": "markdown",
      "source": [
        "\n",
        "# Overview \n",
        "\n",
        "Sparse Matrix Computation \n",
        "\n"
      ]
    },
    {
      "metadata": {
        "id": "vfz2hoQtQ5Ei",
        "colab_type": "text"
      },
      "cell_type": "markdown",
      "source": [
        "\n",
        "# Library \n"
      ]
    },
    {
      "metadata": {
        "id": "GrISUGwAQr6z",
        "colab_type": "code",
        "colab": {}
      },
      "cell_type": "code",
      "source": [
        "import copy\n",
        "\n",
        "class SparseMatrix: \n",
        "    def __init__(self, r, c): \n",
        "        self.r = r\n",
        "        self.c = c \n",
        "        \n",
        "        # Main Storage is a dict \n",
        "        self.db = dict()\n",
        "        \n",
        "    def __sc_in_bounds__(self, r, c): \n",
        "        if((r<0) or (c<0) or (r>=self.r) or (c>=self.c)): \n",
        "            raise Exception(\"Out of bound\")\n",
        "            \n",
        "    \n",
        "    def __sc_matrix_sum__(self, m): \n",
        "        if( (self.r != m.r) or (self.c != m.c) ): \n",
        "            raise Exception(\"Matrix Dim do not match\")\n",
        "    \n",
        "    def __sc_matrix_mul__(self, m): \n",
        "        if( self.c != m.r ): \n",
        "            raise Exception(\"Matrix dim do not match\")\n",
        "    \n",
        "    # Logic defining the hashable key \n",
        "    def __get_key__(self, r, c): \n",
        "        return str(r) + \",\" + str(c)\n",
        "        \n",
        "    def set(self, r, c, val): \n",
        "        self.__sc_in_bounds__(r,c)\n",
        "        key = self.__get_key__(r,c)\n",
        "        self.db[key] = val\n",
        "        \n",
        "    # Sparsity Representation: each missing key is zero \n",
        "    def get(self, r,c): \n",
        "        self.__sc_in_bounds__(r,c)\n",
        "        key = self.__get_key__(r,c)\n",
        "        if(key in self.db): \n",
        "            return self.db[key]\n",
        "        else: \n",
        "            return 0\n",
        "    \n",
        "    def clone(self): \n",
        "        res = SparseMatrix(self.r, self.c)\n",
        "        # Make an independent one \n",
        "        res.db = copy.deepcopy(self.db)\n",
        "        return res\n",
        "    \n",
        "    def sum(self, m): \n",
        "        self.__sc_matrix_sum__(m)\n",
        "        res = self.clone()\n",
        "        for k in m.db: \n",
        "            if(k in res.db): \n",
        "                res.db[k] += m.db[k]\n",
        "            else: \n",
        "                res.db[k] = m.db[k]\n",
        "        return res\n",
        "    \n",
        "    \n",
        "    def mul(self, m): \n",
        "        self.__sc_matrix_mul__(m)\n",
        "        res = SparseMatrix(self.r, m.c)\n",
        "        for k1 in self.db: \n",
        "            for k2 in m.db: \n",
        "                _k1 = k1.split(\",\")\n",
        "                _k2 = k2.split(\",\")\n",
        "                # NOTE: Get only meaningful combinatoins \n",
        "                if(_k2[0]==_k1[1]): \n",
        "                    k = self.__get_key__(_k1[0], _k2[1])\n",
        "                    val = self.db[k1] * m.db[k2]\n",
        "                    #print(\"Processing \" + k1 + \", \" + k2 + \", \" + k + \" give \" + str(self.db[k1]) + \" * \" + str(m.db[k2]) + \" = \" + str(val))\n",
        "                    if(k in res.db): \n",
        "                        res.db[k] += val\n",
        "                    else: \n",
        "                        res.db[k] = val\n",
        "        return res \n",
        "\n",
        "    \n",
        "    def to_str_compact(self): \n",
        "        # NOTE: Empty Dict evaluate to False \n",
        "        if(not self.db): \n",
        "            return \"(Empty)\"\n",
        "        \n",
        "        res = \"\"\n",
        "        for k in self.db: \n",
        "            res += \"Key=(\" + k + \") Val=(\" + str(self.db[k]) + \")\\n\"\n",
        "        return res\n",
        "    \n",
        "    def to_str_full(self): \n",
        "        res = \"\"\n",
        "        for i in range(self.r): \n",
        "            for j in range(self.c): \n",
        "                key = self.__get_key__(i,j)\n",
        "                if(key in self.db): \n",
        "                    res += str(self.db[key])\n",
        "                else: \n",
        "                    res += \"0\"\n",
        "                res += \" \"\n",
        "            res += \"\\n\"\n",
        "        return res\n",
        "\n"
      ],
      "execution_count": 0,
      "outputs": []
    },
    {
      "metadata": {
        "id": "PYXCKnpyQ9SK",
        "colab_type": "text"
      },
      "cell_type": "markdown",
      "source": [
        "\n",
        "# Test \n"
      ]
    },
    {
      "metadata": {
        "id": "OLvhFr_xSq16",
        "colab_type": "code",
        "colab": {}
      },
      "cell_type": "code",
      "source": [
        "\n",
        "# Matrix Comparison Function \n",
        "def compare_matrix(a, b): \n",
        "  for i in range(a.r): \n",
        "    for j in range(a.c): \n",
        "      if(a.get(i,j) != gt_c.item(i,j)): \n",
        "        return False\n",
        "  return True\n"
      ],
      "execution_count": 0,
      "outputs": []
    },
    {
      "metadata": {
        "id": "5JhxVuODQ-Kb",
        "colab_type": "code",
        "colab": {
          "base_uri": "https://localhost:8080/",
          "height": 454
        },
        "outputId": "dfa0bfe0-5196-4229-8cf2-41c14be9140e"
      },
      "cell_type": "code",
      "source": [
        "# Print Your code here\n",
        "m = SparseMatrix(3,3)\n",
        "#print(m.to_str_compact())\n",
        "m.set(2,1,1)\n",
        "p = m.clone()\n",
        "p.set(0,0,5)\n",
        "p.set(2,1,3)\n",
        "q = m.sum(p)\n",
        "\n",
        "r = p.mul(q)\n",
        "\n",
        "\n",
        "a = SparseMatrix(3,3)\n",
        "a.set(0,0,1)\n",
        "a.set(0,1,2)\n",
        "a.set(0,2,3)\n",
        "a.set(1,0,4)\n",
        "a.set(1,1,5)\n",
        "a.set(1,2,6)\n",
        "a.set(2,0,7)\n",
        "a.set(2,1,8)\n",
        "a.set(2,2,9)\n",
        "\n",
        "b = SparseMatrix(3,3)\n",
        "b.set(0,0,3)\n",
        "b.set(0,1,2)\n",
        "b.set(0,2,1)\n",
        "b.set(1,0,6)\n",
        "b.set(1,1,5)\n",
        "b.set(1,2,4)\n",
        "b.set(2,0,9)\n",
        "b.set(2,1,8)\n",
        "b.set(2,2,7)\n",
        "\n",
        "print(\"C Mul\")\n",
        "c = a.mul(b)\n",
        "\n",
        "#print(\"Sparse Matrix M (Compact)\\n\" + m.to_str_compact())\n",
        "print(\"Sparse Matrix M (Full)\\n\" + m.to_str_full())\n",
        "#print(\"Sparse Matrix P (Compact)\\n\" + p.to_str_compact())\n",
        "print(\"Sparse Matrix P (Full)\\n\" + p.to_str_full())\n",
        "print(\"Sparse Matrix Q (Full)\\n\" + q.to_str_full())\n",
        "print(\"Sparse Matrix R (Full)\\n\" + r.to_str_full())\n",
        "print(\"Sparse Matrix C (Full)\\n\" + c.to_str_full())\n"
      ],
      "execution_count": 20,
      "outputs": [
        {
          "output_type": "stream",
          "text": [
            "C Mul\n",
            "Sparse Matrix M (Full)\n",
            "0 0 0 \n",
            "0 0 0 \n",
            "0 1 0 \n",
            "\n",
            "Sparse Matrix P (Full)\n",
            "5 0 0 \n",
            "0 0 0 \n",
            "0 3 0 \n",
            "\n",
            "Sparse Matrix Q (Full)\n",
            "5 0 0 \n",
            "0 0 0 \n",
            "0 4 0 \n",
            "\n",
            "Sparse Matrix R (Full)\n",
            "25 0 0 \n",
            "0 0 0 \n",
            "0 0 0 \n",
            "\n",
            "Sparse Matrix C (Full)\n",
            "42 36 30 \n",
            "96 81 66 \n",
            "150 126 102 \n",
            "\n"
          ],
          "name": "stdout"
        }
      ]
    },
    {
      "metadata": {
        "id": "3ph3aTDVRB8Z",
        "colab_type": "code",
        "colab": {}
      },
      "cell_type": "code",
      "source": [
        "import numpy as np"
      ],
      "execution_count": 0,
      "outputs": []
    },
    {
      "metadata": {
        "id": "GLZm7EQtRHiK",
        "colab_type": "code",
        "colab": {}
      },
      "cell_type": "code",
      "source": [
        "gt_a = np.array([ [1,2,3], [4,5,6], [7,8,9] ])\n",
        "gt_b = np.array([ [3,2,1], [6,5,4], [9,8,7] ])\n",
        "gt_c = np.dot(gt_a, gt_b)"
      ],
      "execution_count": 0,
      "outputs": []
    },
    {
      "metadata": {
        "id": "yL-pWOp2RUtl",
        "colab_type": "code",
        "colab": {
          "base_uri": "https://localhost:8080/",
          "height": 67
        },
        "outputId": "2d39959c-7b6d-4b62-aaaf-ca3b63662ec8"
      },
      "cell_type": "code",
      "source": [
        "gt_c"
      ],
      "execution_count": 23,
      "outputs": [
        {
          "output_type": "execute_result",
          "data": {
            "text/plain": [
              "array([[ 42,  36,  30],\n",
              "       [ 96,  81,  66],\n",
              "       [150, 126, 102]])"
            ]
          },
          "metadata": {
            "tags": []
          },
          "execution_count": 23
        }
      ]
    },
    {
      "metadata": {
        "id": "mwvuU8cxSibr",
        "colab_type": "text"
      },
      "cell_type": "markdown",
      "source": [
        "\n",
        "# Unit Test \n",
        "\n",
        "## Test 1 \n",
        "\n",
        "Compare Matrix \n"
      ]
    },
    {
      "metadata": {
        "id": "xnxxjvJgRuHJ",
        "colab_type": "code",
        "colab": {
          "base_uri": "https://localhost:8080/",
          "height": 34
        },
        "outputId": "d7bb101f-9333-464d-dd27-ecb2b9cd2d7e"
      },
      "cell_type": "code",
      "source": [
        "\n",
        "compare_matrix(c, gt_c)\n"
      ],
      "execution_count": 24,
      "outputs": [
        {
          "output_type": "execute_result",
          "data": {
            "text/plain": [
              "True"
            ]
          },
          "metadata": {
            "tags": []
          },
          "execution_count": 24
        }
      ]
    },
    {
      "metadata": {
        "id": "9xeRdIH2SW9t",
        "colab_type": "code",
        "colab": {}
      },
      "cell_type": "code",
      "source": [
        ""
      ],
      "execution_count": 0,
      "outputs": []
    }
  ]
}
